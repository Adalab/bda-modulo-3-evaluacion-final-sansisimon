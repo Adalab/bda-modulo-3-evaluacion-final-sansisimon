{
 "cells": [
  {
   "cell_type": "markdown",
   "metadata": {},
   "source": [
    "# Evaluación de diferencias en reservas de vuelos por nivel educativo"
   ]
  },
  {
   "cell_type": "code",
   "execution_count": 1,
   "metadata": {},
   "outputs": [],
   "source": [
    "# Tratamiento de datos\n",
    "# -----------------------------------------------------------------------\n",
    "import pandas as pd\n",
    "import numpy as np\n",
    "\n",
    "# Visualización\n",
    "# ------------------------------------------------------------------------------\n",
    "import matplotlib.pyplot as plt\n",
    "import seaborn as sns\n",
    "\n",
    "# Evaluar linealidad de las relaciones entre las variables\n",
    "# y la distribución de las variables\n",
    "# ------------------------------------------------------------------------------\n",
    "#import scipy.stats as stats\n",
    "import scipy.stats as stats\n",
    "from scipy.stats import shapiro, kstest\n",
    "\n",
    "# Configuración\n",
    "# -----------------------------------------------------------------------\n",
    "pd.set_option('display.max_columns', None) # para poder visualizar todas las columnas de los DataFrames "
   ]
  },
  {
   "cell_type": "code",
   "execution_count": 2,
   "metadata": {},
   "outputs": [],
   "source": [
    "df = pd.read_csv('files/datos_totales_clean.csv')"
   ]
  },
  {
   "cell_type": "code",
   "execution_count": 3,
   "metadata": {},
   "outputs": [
    {
     "data": {
      "text/html": [
       "<div>\n",
       "<style scoped>\n",
       "    .dataframe tbody tr th:only-of-type {\n",
       "        vertical-align: middle;\n",
       "    }\n",
       "\n",
       "    .dataframe tbody tr th {\n",
       "        vertical-align: top;\n",
       "    }\n",
       "\n",
       "    .dataframe thead th {\n",
       "        text-align: right;\n",
       "    }\n",
       "</style>\n",
       "<table border=\"1\" class=\"dataframe\">\n",
       "  <thead>\n",
       "    <tr style=\"text-align: right;\">\n",
       "      <th></th>\n",
       "      <th>loyalty_number</th>\n",
       "      <th>country</th>\n",
       "      <th>province</th>\n",
       "      <th>city</th>\n",
       "      <th>postal_code</th>\n",
       "      <th>gender</th>\n",
       "      <th>education</th>\n",
       "      <th>salary</th>\n",
       "      <th>marital_status</th>\n",
       "      <th>loyalty_card</th>\n",
       "      <th>clv</th>\n",
       "      <th>enrollment_type</th>\n",
       "      <th>enrollment_year</th>\n",
       "      <th>enrollment_month</th>\n",
       "      <th>cancellation_year</th>\n",
       "      <th>cancellation_month</th>\n",
       "      <th>year</th>\n",
       "      <th>month</th>\n",
       "      <th>flights_booked</th>\n",
       "      <th>flights_with_companions</th>\n",
       "      <th>total_flights</th>\n",
       "      <th>distance</th>\n",
       "      <th>points_accumulated</th>\n",
       "      <th>points_redeemed</th>\n",
       "      <th>dollar_cost_points_redeemed</th>\n",
       "      <th>still_client_loyalty</th>\n",
       "      <th>salary_range</th>\n",
       "    </tr>\n",
       "  </thead>\n",
       "  <tbody>\n",
       "    <tr>\n",
       "      <th>0</th>\n",
       "      <td>480934</td>\n",
       "      <td>Canada</td>\n",
       "      <td>Ontario</td>\n",
       "      <td>Toronto</td>\n",
       "      <td>M2Z 4K1</td>\n",
       "      <td>Female</td>\n",
       "      <td>Bachelor</td>\n",
       "      <td>83236.0</td>\n",
       "      <td>Married</td>\n",
       "      <td>Star</td>\n",
       "      <td>3839.14</td>\n",
       "      <td>Standard</td>\n",
       "      <td>2016</td>\n",
       "      <td>2</td>\n",
       "      <td>0</td>\n",
       "      <td>0</td>\n",
       "      <td>2017</td>\n",
       "      <td>1</td>\n",
       "      <td>0</td>\n",
       "      <td>0</td>\n",
       "      <td>0</td>\n",
       "      <td>0</td>\n",
       "      <td>0.0</td>\n",
       "      <td>0</td>\n",
       "      <td>0</td>\n",
       "      <td>si</td>\n",
       "      <td>bajo</td>\n",
       "    </tr>\n",
       "  </tbody>\n",
       "</table>\n",
       "</div>"
      ],
      "text/plain": [
       "   loyalty_number country province     city postal_code  gender education  \\\n",
       "0          480934  Canada  Ontario  Toronto     M2Z 4K1  Female  Bachelor   \n",
       "\n",
       "    salary marital_status loyalty_card      clv enrollment_type  \\\n",
       "0  83236.0        Married         Star  3839.14        Standard   \n",
       "\n",
       "   enrollment_year  enrollment_month  cancellation_year  cancellation_month  \\\n",
       "0             2016                 2                  0                   0   \n",
       "\n",
       "   year  month  flights_booked  flights_with_companions  total_flights  \\\n",
       "0  2017      1               0                        0              0   \n",
       "\n",
       "   distance  points_accumulated  points_redeemed  dollar_cost_points_redeemed  \\\n",
       "0         0                 0.0                0                            0   \n",
       "\n",
       "  still_client_loyalty salary_range  \n",
       "0                   si         bajo  "
      ]
     },
     "execution_count": 3,
     "metadata": {},
     "output_type": "execute_result"
    }
   ],
   "source": [
    "df.head(1)"
   ]
  },
  {
   "cell_type": "markdown",
   "metadata": {},
   "source": [
    "## 1. Preparación y agrupación de datos"
   ]
  },
  {
   "cell_type": "code",
   "execution_count": 28,
   "metadata": {},
   "outputs": [
    {
     "data": {
      "text/plain": [
       "array(['Bachelor', 'College', 'Master', 'High School or Below', 'Doctor'],\n",
       "      dtype=object)"
      ]
     },
     "execution_count": 28,
     "metadata": {},
     "output_type": "execute_result"
    }
   ],
   "source": [
    "df['education'].unique()"
   ]
  },
  {
   "cell_type": "code",
   "execution_count": null,
   "metadata": {},
   "outputs": [],
   "source": [
    "#vamos a ordenar estos valores únicos por nivel de formación:\n",
    "lista = ['High School or Below','College', 'Bachelor', 'Master', 'Doctor']"
   ]
  },
  {
   "cell_type": "code",
   "execution_count": 120,
   "metadata": {},
   "outputs": [],
   "source": [
    "# filtramos los datos para obtener los grupos. Estos grupos van a ser series de datos\n",
    "grupo_high_school = df[df['education'] == 'High School or Below'] ['flights_booked']\n",
    "grupo_college = df[df['education'] == 'College'] ['flights_booked']\n",
    "grupo_bachelor = df[df['education'] == 'Bachelor'] ['flights_booked']\n",
    "grupo_master = df[df['education'] == 'Master'] ['flights_booked']\n",
    "grupo_doctor = df[df['education'] == 'Doctor'] ['flights_booked']"
   ]
  },
  {
   "cell_type": "code",
   "execution_count": 121,
   "metadata": {},
   "outputs": [],
   "source": [
    "df_grupo_high_school = pd.DataFrame(grupo_high_school)\n",
    "df_grupo_college = pd.DataFrame(grupo_college)\n",
    "df_grupo_bachelor = pd.DataFrame(grupo_bachelor)\n",
    "df_grupo_master = pd.DataFrame(grupo_master)\n",
    "df_grupo_doctor = pd.DataFrame(grupo_doctor)"
   ]
  },
  {
   "cell_type": "code",
   "execution_count": 123,
   "metadata": {},
   "outputs": [
    {
     "data": {
      "text/html": [
       "<div>\n",
       "<style scoped>\n",
       "    .dataframe tbody tr th:only-of-type {\n",
       "        vertical-align: middle;\n",
       "    }\n",
       "\n",
       "    .dataframe tbody tr th {\n",
       "        vertical-align: top;\n",
       "    }\n",
       "\n",
       "    .dataframe thead th {\n",
       "        text-align: right;\n",
       "    }\n",
       "</style>\n",
       "<table border=\"1\" class=\"dataframe\">\n",
       "  <thead>\n",
       "    <tr style=\"text-align: right;\">\n",
       "      <th></th>\n",
       "      <th>flights_booked</th>\n",
       "    </tr>\n",
       "  </thead>\n",
       "  <tbody>\n",
       "    <tr>\n",
       "      <th>792</th>\n",
       "      <td>9</td>\n",
       "    </tr>\n",
       "    <tr>\n",
       "      <th>793</th>\n",
       "      <td>2</td>\n",
       "    </tr>\n",
       "    <tr>\n",
       "      <th>794</th>\n",
       "      <td>13</td>\n",
       "    </tr>\n",
       "    <tr>\n",
       "      <th>795</th>\n",
       "      <td>9</td>\n",
       "    </tr>\n",
       "    <tr>\n",
       "      <th>796</th>\n",
       "      <td>0</td>\n",
       "    </tr>\n",
       "  </tbody>\n",
       "</table>\n",
       "</div>"
      ],
      "text/plain": [
       "     flights_booked\n",
       "792               9\n",
       "793               2\n",
       "794              13\n",
       "795               9\n",
       "796               0"
      ]
     },
     "execution_count": 123,
     "metadata": {},
     "output_type": "execute_result"
    }
   ],
   "source": [
    "df_grupo_high_school.head()"
   ]
  },
  {
   "cell_type": "markdown",
   "metadata": {},
   "source": [
    "## 2. Análisis descriptivo"
   ]
  },
  {
   "cell_type": "code",
   "execution_count": 95,
   "metadata": {},
   "outputs": [
    {
     "name": "stdout",
     "output_type": "stream",
     "text": [
      "High School or Below\n"
     ]
    },
    {
     "data": {
      "text/html": [
       "<div>\n",
       "<style scoped>\n",
       "    .dataframe tbody tr th:only-of-type {\n",
       "        vertical-align: middle;\n",
       "    }\n",
       "\n",
       "    .dataframe tbody tr th {\n",
       "        vertical-align: top;\n",
       "    }\n",
       "\n",
       "    .dataframe thead th {\n",
       "        text-align: right;\n",
       "    }\n",
       "</style>\n",
       "<table border=\"1\" class=\"dataframe\">\n",
       "  <thead>\n",
       "    <tr style=\"text-align: right;\">\n",
       "      <th></th>\n",
       "      <th>0</th>\n",
       "      <th>1</th>\n",
       "      <th>2</th>\n",
       "      <th>3</th>\n",
       "      <th>4</th>\n",
       "      <th>5</th>\n",
       "      <th>6</th>\n",
       "      <th>7</th>\n",
       "    </tr>\n",
       "  </thead>\n",
       "  <tbody>\n",
       "    <tr>\n",
       "      <th>index</th>\n",
       "      <td>count</td>\n",
       "      <td>mean</td>\n",
       "      <td>std</td>\n",
       "      <td>min</td>\n",
       "      <td>25%</td>\n",
       "      <td>50%</td>\n",
       "      <td>75%</td>\n",
       "      <td>max</td>\n",
       "    </tr>\n",
       "    <tr>\n",
       "      <th>flights_booked</th>\n",
       "      <td>18768.0</td>\n",
       "      <td>4.21</td>\n",
       "      <td>5.3</td>\n",
       "      <td>0.0</td>\n",
       "      <td>0.0</td>\n",
       "      <td>1.0</td>\n",
       "      <td>8.0</td>\n",
       "      <td>31.0</td>\n",
       "    </tr>\n",
       "  </tbody>\n",
       "</table>\n",
       "</div>"
      ],
      "text/plain": [
       "                      0     1    2    3    4    5    6     7\n",
       "index             count  mean  std  min  25%  50%  75%   max\n",
       "flights_booked  18768.0  4.21  5.3  0.0  0.0  1.0  8.0  31.0"
      ]
     },
     "metadata": {},
     "output_type": "display_data"
    },
    {
     "name": "stdout",
     "output_type": "stream",
     "text": [
      "----------------------------------------\n",
      "College\n"
     ]
    },
    {
     "data": {
      "text/html": [
       "<div>\n",
       "<style scoped>\n",
       "    .dataframe tbody tr th:only-of-type {\n",
       "        vertical-align: middle;\n",
       "    }\n",
       "\n",
       "    .dataframe tbody tr th {\n",
       "        vertical-align: top;\n",
       "    }\n",
       "\n",
       "    .dataframe thead th {\n",
       "        text-align: right;\n",
       "    }\n",
       "</style>\n",
       "<table border=\"1\" class=\"dataframe\">\n",
       "  <thead>\n",
       "    <tr style=\"text-align: right;\">\n",
       "      <th></th>\n",
       "      <th>0</th>\n",
       "      <th>1</th>\n",
       "      <th>2</th>\n",
       "      <th>3</th>\n",
       "      <th>4</th>\n",
       "      <th>5</th>\n",
       "      <th>6</th>\n",
       "      <th>7</th>\n",
       "    </tr>\n",
       "  </thead>\n",
       "  <tbody>\n",
       "    <tr>\n",
       "      <th>index</th>\n",
       "      <td>count</td>\n",
       "      <td>mean</td>\n",
       "      <td>std</td>\n",
       "      <td>min</td>\n",
       "      <td>25%</td>\n",
       "      <td>50%</td>\n",
       "      <td>75%</td>\n",
       "      <td>max</td>\n",
       "    </tr>\n",
       "    <tr>\n",
       "      <th>flights_booked</th>\n",
       "      <td>101712.0</td>\n",
       "      <td>4.19</td>\n",
       "      <td>5.29</td>\n",
       "      <td>0.0</td>\n",
       "      <td>0.0</td>\n",
       "      <td>1.0</td>\n",
       "      <td>8.0</td>\n",
       "      <td>38.0</td>\n",
       "    </tr>\n",
       "  </tbody>\n",
       "</table>\n",
       "</div>"
      ],
      "text/plain": [
       "                       0     1     2    3    4    5    6     7\n",
       "index              count  mean   std  min  25%  50%  75%   max\n",
       "flights_booked  101712.0  4.19  5.29  0.0  0.0  1.0  8.0  38.0"
      ]
     },
     "metadata": {},
     "output_type": "display_data"
    },
    {
     "name": "stdout",
     "output_type": "stream",
     "text": [
      "----------------------------------------\n",
      "Bachelor\n"
     ]
    },
    {
     "data": {
      "text/html": [
       "<div>\n",
       "<style scoped>\n",
       "    .dataframe tbody tr th:only-of-type {\n",
       "        vertical-align: middle;\n",
       "    }\n",
       "\n",
       "    .dataframe tbody tr th {\n",
       "        vertical-align: top;\n",
       "    }\n",
       "\n",
       "    .dataframe thead th {\n",
       "        text-align: right;\n",
       "    }\n",
       "</style>\n",
       "<table border=\"1\" class=\"dataframe\">\n",
       "  <thead>\n",
       "    <tr style=\"text-align: right;\">\n",
       "      <th></th>\n",
       "      <th>0</th>\n",
       "      <th>1</th>\n",
       "      <th>2</th>\n",
       "      <th>3</th>\n",
       "      <th>4</th>\n",
       "      <th>5</th>\n",
       "      <th>6</th>\n",
       "      <th>7</th>\n",
       "    </tr>\n",
       "  </thead>\n",
       "  <tbody>\n",
       "    <tr>\n",
       "      <th>index</th>\n",
       "      <td>count</td>\n",
       "      <td>mean</td>\n",
       "      <td>std</td>\n",
       "      <td>min</td>\n",
       "      <td>25%</td>\n",
       "      <td>50%</td>\n",
       "      <td>75%</td>\n",
       "      <td>max</td>\n",
       "    </tr>\n",
       "    <tr>\n",
       "      <th>flights_booked</th>\n",
       "      <td>251400.0</td>\n",
       "      <td>4.13</td>\n",
       "      <td>5.26</td>\n",
       "      <td>0.0</td>\n",
       "      <td>0.0</td>\n",
       "      <td>1.0</td>\n",
       "      <td>8.0</td>\n",
       "      <td>39.0</td>\n",
       "    </tr>\n",
       "  </tbody>\n",
       "</table>\n",
       "</div>"
      ],
      "text/plain": [
       "                       0     1     2    3    4    5    6     7\n",
       "index              count  mean   std  min  25%  50%  75%   max\n",
       "flights_booked  251400.0  4.13  5.26  0.0  0.0  1.0  8.0  39.0"
      ]
     },
     "metadata": {},
     "output_type": "display_data"
    },
    {
     "name": "stdout",
     "output_type": "stream",
     "text": [
      "----------------------------------------\n",
      "Master\n"
     ]
    },
    {
     "data": {
      "text/html": [
       "<div>\n",
       "<style scoped>\n",
       "    .dataframe tbody tr th:only-of-type {\n",
       "        vertical-align: middle;\n",
       "    }\n",
       "\n",
       "    .dataframe tbody tr th {\n",
       "        vertical-align: top;\n",
       "    }\n",
       "\n",
       "    .dataframe thead th {\n",
       "        text-align: right;\n",
       "    }\n",
       "</style>\n",
       "<table border=\"1\" class=\"dataframe\">\n",
       "  <thead>\n",
       "    <tr style=\"text-align: right;\">\n",
       "      <th></th>\n",
       "      <th>0</th>\n",
       "      <th>1</th>\n",
       "      <th>2</th>\n",
       "      <th>3</th>\n",
       "      <th>4</th>\n",
       "      <th>5</th>\n",
       "      <th>6</th>\n",
       "      <th>7</th>\n",
       "    </tr>\n",
       "  </thead>\n",
       "  <tbody>\n",
       "    <tr>\n",
       "      <th>index</th>\n",
       "      <td>count</td>\n",
       "      <td>mean</td>\n",
       "      <td>std</td>\n",
       "      <td>min</td>\n",
       "      <td>25%</td>\n",
       "      <td>50%</td>\n",
       "      <td>75%</td>\n",
       "      <td>max</td>\n",
       "    </tr>\n",
       "    <tr>\n",
       "      <th>flights_booked</th>\n",
       "      <td>12192.0</td>\n",
       "      <td>4.23</td>\n",
       "      <td>5.27</td>\n",
       "      <td>0.0</td>\n",
       "      <td>0.0</td>\n",
       "      <td>1.0</td>\n",
       "      <td>8.0</td>\n",
       "      <td>33.0</td>\n",
       "    </tr>\n",
       "  </tbody>\n",
       "</table>\n",
       "</div>"
      ],
      "text/plain": [
       "                      0     1     2    3    4    5    6     7\n",
       "index             count  mean   std  min  25%  50%  75%   max\n",
       "flights_booked  12192.0  4.23  5.27  0.0  0.0  1.0  8.0  33.0"
      ]
     },
     "metadata": {},
     "output_type": "display_data"
    },
    {
     "name": "stdout",
     "output_type": "stream",
     "text": [
      "----------------------------------------\n",
      "Doctor\n"
     ]
    },
    {
     "data": {
      "text/html": [
       "<div>\n",
       "<style scoped>\n",
       "    .dataframe tbody tr th:only-of-type {\n",
       "        vertical-align: middle;\n",
       "    }\n",
       "\n",
       "    .dataframe tbody tr th {\n",
       "        vertical-align: top;\n",
       "    }\n",
       "\n",
       "    .dataframe thead th {\n",
       "        text-align: right;\n",
       "    }\n",
       "</style>\n",
       "<table border=\"1\" class=\"dataframe\">\n",
       "  <thead>\n",
       "    <tr style=\"text-align: right;\">\n",
       "      <th></th>\n",
       "      <th>0</th>\n",
       "      <th>1</th>\n",
       "      <th>2</th>\n",
       "      <th>3</th>\n",
       "      <th>4</th>\n",
       "      <th>5</th>\n",
       "      <th>6</th>\n",
       "      <th>7</th>\n",
       "    </tr>\n",
       "  </thead>\n",
       "  <tbody>\n",
       "    <tr>\n",
       "      <th>index</th>\n",
       "      <td>count</td>\n",
       "      <td>mean</td>\n",
       "      <td>std</td>\n",
       "      <td>min</td>\n",
       "      <td>25%</td>\n",
       "      <td>50%</td>\n",
       "      <td>75%</td>\n",
       "      <td>max</td>\n",
       "    </tr>\n",
       "    <tr>\n",
       "      <th>flights_booked</th>\n",
       "      <td>17616.0</td>\n",
       "      <td>4.2</td>\n",
       "      <td>5.31</td>\n",
       "      <td>0.0</td>\n",
       "      <td>0.0</td>\n",
       "      <td>1.0</td>\n",
       "      <td>8.0</td>\n",
       "      <td>32.0</td>\n",
       "    </tr>\n",
       "  </tbody>\n",
       "</table>\n",
       "</div>"
      ],
      "text/plain": [
       "                      0     1     2    3    4    5    6     7\n",
       "index             count  mean   std  min  25%  50%  75%   max\n",
       "flights_booked  17616.0   4.2  5.31  0.0  0.0  1.0  8.0  32.0"
      ]
     },
     "metadata": {},
     "output_type": "display_data"
    },
    {
     "name": "stdout",
     "output_type": "stream",
     "text": [
      "----------------------------------------\n"
     ]
    }
   ],
   "source": [
    "#imprimimos las estadísticas:\n",
    "for filtro in lista:\n",
    "    print(filtro)\n",
    "    display(df[df['education'] == filtro]['flights_booked'].describe().round(2).reset_index().T)\n",
    "    print('-' * 40)"
   ]
  },
  {
   "cell_type": "markdown",
   "metadata": {},
   "source": [
    "## 3. Prueba de hipótesis:\n",
    "\n",
    "- `H0 (Hipótesis nula)` = no existe una diferencia sifnigicativa en el número de vuelos reservados entre los diferentes niveles educativos.\n",
    "\n",
    "- `H1 (Hipótesis alternativa)` = Existe diferencia significativa en el número de vuelos reservados entre los diferentes niveles educativos.\n",
    "\n",
    "\n",
    "### `Estructura de prueba de hipótesis`:\n",
    "\n",
    "### 1. Primero verificamos si los datos son normales  \n",
    "- usando el test de Shapiro-Wilk (menos de 5.000 datos) o \n",
    "- Kolmogorov-Smirnov (más de 5.000 datos en muestra). \n",
    "\n",
    "-- > ahora haremos el test, pero con un histograma, podemos ver si la distribución es normal:"
   ]
  },
  {
   "cell_type": "code",
   "execution_count": 132,
   "metadata": {},
   "outputs": [
    {
     "data": {
      "image/png": "[encoded data removed]",
      "text/plain": [
       "<Figure size 2000x1000 with 6 Axes>"
      ]
     },
     "metadata": {},
     "output_type": "display_data"
    }
   ],
   "source": [
    "#histograma\n",
    "\n",
    "#empezamos creando el subplot con el número de gráficas deseadas en su interior\n",
    "fig, axes = plt.subplots(nrows = 2, ncols = 3, figsize = (20, 10))\n",
    "\n",
    "sns.histplot(x = \"flights_booked\", \n",
    "            data = df_grupo_high_school, \n",
    "            color = \"violet\", \n",
    "            bins = 20, \n",
    "            ax = axes[0,0])\n",
    "axes[0,0].set_title(\"histograma 'high_school'\")\n",
    "\n",
    "sns.histplot(x = \"flights_booked\", \n",
    "            data = df_grupo_college, \n",
    "            color = \"violet\", \n",
    "            bins = 20, \n",
    "            ax = axes[0,1])\n",
    "axes[0,1].set_title(\"histograma 'college'\")\n",
    "\n",
    "\n",
    "sns.histplot(x = \"flights_booked\", \n",
    "            data = df_grupo_bachelor, \n",
    "            color = \"violet\", \n",
    "            bins = 20, \n",
    "            ax = axes[0,2])\n",
    "axes[0,2].set_title(\"histograma 'bachelor'\")\n",
    "\n",
    "sns.histplot(x = \"flights_booked\", \n",
    "            data = df_grupo_master, \n",
    "            color = \"violet\", \n",
    "            bins = 20, \n",
    "            ax = axes[1,0])\n",
    "axes[1,0].set_title(\"histograma 'master'\")\n",
    "\n",
    "sns.histplot(x = \"flights_booked\", \n",
    "            data = df_grupo_doctor, \n",
    "            color = \"violet\", \n",
    "            bins = 20, \n",
    "            ax = axes[1,1])\n",
    "axes[1,1].set_title(\"histograma 'doctor'\");\n",
    "\n",
    "#ponemos la misma escala en los ejes:\n",
    "#eje x, para asegurarnos que coge bien el mes núm 12:\n",
    "axes[0,0].set_xlim(0,30) \n",
    "axes[0,1].set_xlim(0,30) \n",
    "axes[0,2].set_xlim(0,30) \n",
    "axes[1,0].set_xlim(0,30) \n",
    "axes[1,1].set_xlim(0,30) \n",
    "\n",
    "#eje y, hasta 120.000:\n",
    "axes[0,0].set_ylim(0,120000) \n",
    "axes[0,1].set_ylim(0,120000) \n",
    "axes[0,2].set_ylim(0,120000) \n",
    "axes[1,0].set_ylim(0,120000) \n",
    "axes[1,1].set_ylim(0,120000);"
   ]
  },
  {
   "cell_type": "code",
   "execution_count": null,
   "metadata": {},
   "outputs": [],
   "source": [
    " # Comprobar normalidad en cada grupo\n",
    "normalidad = []\n",
    "for grupo in args:\n",
    "    if len(grupo) > 5000:\n",
    "        p_valor_norm = stats.kstest(grupo, 'norm').pvalue  # Kolmogorov-Smirnov si n > 5000 \n",
    "    else:\n",
    "        p_valor_norm = stats.shapiro(grupo).pvalue  # Shapiro-Wilk si n <= 5000(Hasta 5000 saphiro es robusto, aunque depende tb de otras cosas)\n",
    "        normalidad.append(p_valor_norm > 0.05)\n",
    "#nota: p_valor_norm > 0.05,  ¿qué significa esto?:\n",
    "#Si True, significa que no hay suficiente evidencia para rechazar la hipótesis nula (es decir, los datos podrían seguir una distribución normal).\n",
    "#Si False, significa que hay suficiente evidencia para rechazar la normalidad."
   ]
  },
  {
   "cell_type": "markdown",
   "metadata": {},
   "source": [
    "2. Si los datos son normales, usa Bartlett para probar igualdad de varianzas. Si no son normales, usa Levene.\n",
    "- Por el histograma, no parece que vayan a ser normales, tendremos que usar Levene.\n",
    "\n",
    "3. Si las varianzas son iguales, usa el t-test de Student si no, usa la versión de Welch (ambos son tests Paramétricos).\n",
    "\n",
    "\n",
    "4. Si los datos no son normales, usa el test de Mann-Whitney (alternativa no paramétrica)."
   ]
  },
  {
   "cell_type": "code",
   "execution_count": null,
   "metadata": {},
   "outputs": [],
   "source": [
    "#vamos a hacer un gráfico con estos datos:\n"
   ]
  },
  {
   "cell_type": "markdown",
   "metadata": {},
   "source": []
  },
  {
   "cell_type": "code",
   "execution_count": 100,
   "metadata": {},
   "outputs": [],
   "source": [
    "def prueba_hipotesis(*args):\n",
    "    \"\"\"\n",
    "    Realiza una prueba de hipótesis para comparar grupos.\n",
    "    1. Primero verifica si los datos son normales usando el test de Shapiro-Wilk (menos de 5.000 datos) o Kolmogorov-Smirnov (más de 5.000 datos en muestra).\n",
    "    2. Si los datos son normales, usa Bartlett para probar igualdad de varianzas. Si no son normales, usa Levene.\n",
    "    3. Si las varianzas son iguales, usa el t-test de Student si no, usa la versión de Welch (ambos son tests Paramétricos).\n",
    "    4. Si los datos no son normales, usa el test de Mann-Whitney (alternativa no paramétrica).\n",
    "\n",
    "    Parámetros:\n",
    "    *args: listas o arrays con los datos de cada grupo.\n",
    "\n",
    "    Retorna:\n",
    "    dict con resultados del test de normalidad, varianza e hipótesis.\n",
    "    \"\"\"\n",
    "    \n",
    "    # Verificar si hay al menos dos grupos\n",
    "    if len(args) < 2:\n",
    "        raise ValueError(\"Se necesitan al menos dos conjuntos de datos para realizar la prueba.\")\n",
    "    \n",
    "    # Comprobar normalidad en cada grupo\n",
    "    normalidad = []\n",
    "    for grupo in args:\n",
    "        if len(grupo) > 5000:\n",
    "            p_valor_norm = stats.kstest(grupo, 'norm').pvalue  # Kolmogorov-Smirnov si n > 5000 \n",
    "        else:\n",
    "            p_valor_norm = stats.shapiro(grupo).pvalue  # Shapiro-Wilk si n <= 5000(Hasta 5000 saphiro es robusto, aunque depende tb de otras cosas)\n",
    "        normalidad.append(p_valor_norm > 0.05)\n",
    "    #nota: p_valor_norm > 0.05,  ¿qué significa esto?:\n",
    "    #Si True, significa que no hay suficiente evidencia para rechazar la hipótesis nula (es decir, los datos podrían seguir una distribución normal).\n",
    "    #Si False, significa que hay suficiente evidencia para rechazar la normalidad.\n",
    "    \n",
    "\n",
    "    datos_normales = all(normalidad)  \n",
    "    # La función all(iterable) en Python: all() devuelve True sólo si todos los elementos en normalidad son True.\n",
    "    # Si al menos un elemento es False, entonces all() devuelve False. \n",
    "    # Es decir, si datos_normales = True, significa que todos los grupos pasaron la prueba de normalidad. \n",
    "    # Si datos_normales = False, significa que al menos un grupo no es normal.\n",
    "\n",
    "    # Prueba de igualdad de varianzas\n",
    "    if datos_normales: #(if datos_normales == True)\n",
    "        p_valor_varianza = stats.bartlett(*args).pvalue  # Test de Bartlett si los datos son normales\n",
    "    else:\n",
    "        p_valor_varianza = stats.levene(*args, center=\"median\").pvalue  # Test de Levene si no son normales\n",
    "\n",
    "    \n",
    "    # Si p_valor_varianza > 0.05, no hay suficiente evidencia para decir que las varianzas son diferentes \n",
    "    # → Se asume que las varianzas son iguales (varianzas_iguales = True).\n",
    "    varianzas_iguales = p_valor_varianza > 0.05 \n",
    "\n",
    "    # Aplicar el test adecuado\n",
    "    if datos_normales:\n",
    "        if varianzas_iguales:\n",
    "            t_stat, p_valor = stats.ttest_ind(*args, equal_var=True)\n",
    "            test_usado = \"t-test de Student (varianzas iguales)\"\n",
    "        else:\n",
    "            t_stat, p_valor = stats.ttest_ind(*args, equal_var=False)\n",
    "            test_usado = \"t-test de Welch (varianzas desiguales)\"\n",
    "    else:\n",
    "        t_stat, p_valor = stats.mannwhitneyu(*args)\n",
    "        test_usado = \"Mann-Whitney U (prueba no paramétrica)\" #cuando no hay normalidad\n",
    "\n",
    "    # Nivel de significancia\n",
    "    alfa = 0.05\n",
    "\n",
    "    # Resultados\n",
    "    resultado = {\n",
    "        \"Test de Normalidad\": normalidad,\n",
    "        \"Datos Normales\": datos_normales,\n",
    "        \"p-valor Varianza\": p_valor_varianza,\n",
    "        \"Varianzas Iguales\": varianzas_iguales,\n",
    "        \"Test Usado\": test_usado,\n",
    "        \"Estadístico\": t_stat,\n",
    "        \"p-valor\": p_valor,\n",
    "        \"Conclusión\": \"Rechazamos H0 (Diferencias significativas)\" if p_valor < alfa else \"No se rechaza H0 (No hay diferencias significativas)\"\n",
    "    }\n",
    "\n",
    "    # Imprimir resultados de manera más clara\n",
    "    print(\"**📌 Resultados de la Prueba de Hipótesis**\")\n",
    "    print(f\"Test de Normalidad: {'Sí' if datos_normales else 'No'}\")\n",
    "    print(f\"Normalidad por grupo: {normalidad}\")\n",
    "    print(f\"Test de Varianza: {'Iguales' if varianzas_iguales else 'Desiguales'} (p = {p_valor_varianza:.4f})\")\n",
    "    print(f\"Test aplicado: {test_usado}\")\n",
    "    print(f\" Estadístico: {t_stat:.4f}, p-valor: {p_valor:.4f}\")\n",
    "    print(f\"🔍 Conclusión: {resultado['Conclusión']}\")\n",
    "\n",
    "    return resultado"
   ]
  },
  {
   "cell_type": "code",
   "execution_count": 115,
   "metadata": {},
   "outputs": [
    {
     "ename": "AxisError",
     "evalue": "`axis` is out of bounds for array of dimension 1",
     "output_type": "error",
     "traceback": [
      "\u001b[0;31m---------------------------------------------------------------------------\u001b[0m",
      "\u001b[0;31mAxisError\u001b[0m                                 Traceback (most recent call last)",
      "Cell \u001b[0;32mIn[115], line 2\u001b[0m\n\u001b[1;32m      1\u001b[0m \u001b[38;5;66;03m# llamamos a la función que hemos creado\u001b[39;00m\n\u001b[0;32m----> 2\u001b[0m \u001b[43mprueba_hipotesis\u001b[49m\u001b[43m(\u001b[49m\u001b[43mgrupo_high_school\u001b[49m\u001b[43m,\u001b[49m\u001b[43m \u001b[49m\u001b[43mgrupo_college\u001b[49m\u001b[43m,\u001b[49m\u001b[43m \u001b[49m\u001b[43mgrupo_bachelor\u001b[49m\u001b[43m,\u001b[49m\u001b[43m \u001b[49m\u001b[43mgrupo_master\u001b[49m\u001b[43m,\u001b[49m\u001b[43m \u001b[49m\u001b[43mgrupo_doctor\u001b[49m\u001b[43m)\u001b[49m\n",
      "Cell \u001b[0;32mIn[100], line 59\u001b[0m, in \u001b[0;36mprueba_hipotesis\u001b[0;34m(*args)\u001b[0m\n\u001b[1;32m     57\u001b[0m         test_usado \u001b[38;5;241m=\u001b[39m \u001b[38;5;124m\"\u001b[39m\u001b[38;5;124mt-test de Welch (varianzas desiguales)\u001b[39m\u001b[38;5;124m\"\u001b[39m\n\u001b[1;32m     58\u001b[0m \u001b[38;5;28;01melse\u001b[39;00m:\n\u001b[0;32m---> 59\u001b[0m     t_stat, p_valor \u001b[38;5;241m=\u001b[39m \u001b[43mstats\u001b[49m\u001b[38;5;241;43m.\u001b[39;49m\u001b[43mmannwhitneyu\u001b[49m\u001b[43m(\u001b[49m\u001b[38;5;241;43m*\u001b[39;49m\u001b[43margs\u001b[49m\u001b[43m)\u001b[49m\n\u001b[1;32m     60\u001b[0m     test_usado \u001b[38;5;241m=\u001b[39m \u001b[38;5;124m\"\u001b[39m\u001b[38;5;124mMann-Whitney U (prueba no paramétrica)\u001b[39m\u001b[38;5;124m\"\u001b[39m \u001b[38;5;66;03m#cuando no hay normalidad\u001b[39;00m\n\u001b[1;32m     62\u001b[0m \u001b[38;5;66;03m# Nivel de significancia\u001b[39;00m\n",
      "File \u001b[0;32m~/opt/anaconda3/envs/promo49/lib/python3.11/site-packages/scipy/stats/_axis_nan_policy.py:535\u001b[0m, in \u001b[0;36m_axis_nan_policy_factory.<locals>.axis_nan_policy_decorator.<locals>.axis_nan_policy_wrapper\u001b[0;34m(***failed resolving arguments***)\u001b[0m\n\u001b[1;32m    532\u001b[0m     samples \u001b[38;5;241m=\u001b[39m [np\u001b[38;5;241m.\u001b[39masarray(sample\u001b[38;5;241m.\u001b[39mravel()) \u001b[38;5;28;01mfor\u001b[39;00m sample \u001b[38;5;129;01min\u001b[39;00m samples]\n\u001b[1;32m    533\u001b[0m \u001b[38;5;28;01melse\u001b[39;00m:\n\u001b[1;32m    534\u001b[0m     \u001b[38;5;66;03m# don't ignore any axes when broadcasting if paired\u001b[39;00m\n\u001b[0;32m--> 535\u001b[0m     samples \u001b[38;5;241m=\u001b[39m \u001b[43m_broadcast_arrays\u001b[49m\u001b[43m(\u001b[49m\u001b[43msamples\u001b[49m\u001b[43m,\u001b[49m\u001b[43m \u001b[49m\u001b[43maxis\u001b[49m\u001b[38;5;241;43m=\u001b[39;49m\u001b[43maxis\u001b[49m\u001b[43m \u001b[49m\u001b[38;5;28;43;01mif\u001b[39;49;00m\u001b[43m \u001b[49m\u001b[38;5;129;43;01mnot\u001b[39;49;00m\u001b[43m \u001b[49m\u001b[43mpaired\u001b[49m\u001b[43m \u001b[49m\u001b[38;5;28;43;01melse\u001b[39;49;00m\u001b[43m \u001b[49m\u001b[38;5;28;43;01mNone\u001b[39;49;00m\u001b[43m)\u001b[49m\n\u001b[1;32m    536\u001b[0m     axis \u001b[38;5;241m=\u001b[39m np\u001b[38;5;241m.\u001b[39matleast_1d(axis)\n\u001b[1;32m    537\u001b[0m     n_axes \u001b[38;5;241m=\u001b[39m \u001b[38;5;28mlen\u001b[39m(axis)\n",
      "File \u001b[0;32m~/opt/anaconda3/envs/promo49/lib/python3.11/site-packages/scipy/stats/_axis_nan_policy.py:50\u001b[0m, in \u001b[0;36m_broadcast_arrays\u001b[0;34m(arrays, axis, xp)\u001b[0m\n\u001b[1;32m     48\u001b[0m arrays \u001b[38;5;241m=\u001b[39m [xp\u001b[38;5;241m.\u001b[39masarray(arr) \u001b[38;5;28;01mfor\u001b[39;00m arr \u001b[38;5;129;01min\u001b[39;00m arrays]\n\u001b[1;32m     49\u001b[0m shapes \u001b[38;5;241m=\u001b[39m [arr\u001b[38;5;241m.\u001b[39mshape \u001b[38;5;28;01mfor\u001b[39;00m arr \u001b[38;5;129;01min\u001b[39;00m arrays]\n\u001b[0;32m---> 50\u001b[0m new_shapes \u001b[38;5;241m=\u001b[39m \u001b[43m_broadcast_shapes\u001b[49m\u001b[43m(\u001b[49m\u001b[43mshapes\u001b[49m\u001b[43m,\u001b[49m\u001b[43m \u001b[49m\u001b[43maxis\u001b[49m\u001b[43m)\u001b[49m\n\u001b[1;32m     51\u001b[0m \u001b[38;5;28;01mif\u001b[39;00m axis \u001b[38;5;129;01mis\u001b[39;00m \u001b[38;5;28;01mNone\u001b[39;00m:\n\u001b[1;32m     52\u001b[0m     new_shapes \u001b[38;5;241m=\u001b[39m [new_shapes]\u001b[38;5;241m*\u001b[39m\u001b[38;5;28mlen\u001b[39m(arrays)\n",
      "File \u001b[0;32m~/opt/anaconda3/envs/promo49/lib/python3.11/site-packages/scipy/stats/_axis_nan_policy.py:90\u001b[0m, in \u001b[0;36m_broadcast_shapes\u001b[0;34m(shapes, axis)\u001b[0m\n\u001b[1;32m     87\u001b[0m \u001b[38;5;28;01mif\u001b[39;00m axis[\u001b[38;5;241m-\u001b[39m\u001b[38;5;241m1\u001b[39m] \u001b[38;5;241m>\u001b[39m\u001b[38;5;241m=\u001b[39m n_dims \u001b[38;5;129;01mor\u001b[39;00m axis[\u001b[38;5;241m0\u001b[39m] \u001b[38;5;241m<\u001b[39m \u001b[38;5;241m0\u001b[39m:\n\u001b[1;32m     88\u001b[0m     message \u001b[38;5;241m=\u001b[39m (\u001b[38;5;124mf\u001b[39m\u001b[38;5;124m\"\u001b[39m\u001b[38;5;124m`axis` is out of bounds \u001b[39m\u001b[38;5;124m\"\u001b[39m\n\u001b[1;32m     89\u001b[0m                \u001b[38;5;124mf\u001b[39m\u001b[38;5;124m\"\u001b[39m\u001b[38;5;124mfor array of dimension \u001b[39m\u001b[38;5;132;01m{\u001b[39;00mn_dims\u001b[38;5;132;01m}\u001b[39;00m\u001b[38;5;124m\"\u001b[39m)\n\u001b[0;32m---> 90\u001b[0m     \u001b[38;5;28;01mraise\u001b[39;00m AxisError(message)\n\u001b[1;32m     92\u001b[0m \u001b[38;5;28;01mif\u001b[39;00m \u001b[38;5;28mlen\u001b[39m(np\u001b[38;5;241m.\u001b[39munique(axis)) \u001b[38;5;241m!=\u001b[39m \u001b[38;5;28mlen\u001b[39m(axis):\n\u001b[1;32m     93\u001b[0m     \u001b[38;5;28;01mraise\u001b[39;00m AxisError(\u001b[38;5;124m\"\u001b[39m\u001b[38;5;124m`axis` must contain only distinct elements\u001b[39m\u001b[38;5;124m\"\u001b[39m)\n",
      "\u001b[0;31mAxisError\u001b[0m: `axis` is out of bounds for array of dimension 1"
     ]
    }
   ],
   "source": [
    "# llamamos a la función que hemos creado\n",
    "prueba_hipotesis(grupo_high_school, grupo_college, grupo_bachelor, grupo_master, grupo_doctor)"
   ]
  }
 ],
 "metadata": {
  "kernelspec": {
   "display_name": "promo49",
   "language": "python",
   "name": "python3"
  },
  "language_info": {
   "codemirror_mode": {
    "name": "ipython",
    "version": 3
   },
   "file_extension": ".py",
   "mimetype": "text/x-python",
   "name": "python",
   "nbconvert_exporter": "python",
   "pygments_lexer": "ipython3",
   "version": "3.11.11"
  }
 },
 "nbformat": 4,
 "nbformat_minor": 2
}
