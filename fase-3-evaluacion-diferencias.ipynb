{
 "cells": [
  {
   "cell_type": "markdown",
   "metadata": {},
   "source": [
    "# Evaluación de diferencias en reservas de vuelos por nivel educativo"
   ]
  },
  {
   "cell_type": "code",
   "execution_count": 2,
   "metadata": {},
   "outputs": [],
   "source": [
    "# Tratamiento de datos\n",
    "# -----------------------------------------------------------------------\n",
    "import pandas as pd\n",
    "import numpy as np\n",
    "\n",
    "# Visualización\n",
    "# ------------------------------------------------------------------------------\n",
    "import matplotlib.pyplot as plt\n",
    "import seaborn as sns\n",
    "\n",
    "# Evaluar linealidad de las relaciones entre las variables\n",
    "# y la distribución de las variables\n",
    "# ------------------------------------------------------------------------------\n",
    "#import scipy.stats as stats\n",
    "import scipy.stats as stats\n",
    "from scipy.stats import shapiro, kstest\n",
    "\n",
    "# Configuración\n",
    "# -----------------------------------------------------------------------\n",
    "pd.set_option('display.max_columns', None) # para poder visualizar todas las columnas de los DataFrames "
   ]
  },
  {
   "cell_type": "code",
   "execution_count": 3,
   "metadata": {},
   "outputs": [],
   "source": [
    "df = pd.read_csv('files/datos_totales_clean.csv')"
   ]
  },
  {
   "cell_type": "code",
   "execution_count": null,
   "metadata": {},
   "outputs": [
    {
     "data": {
      "text/html": [
       "<div>\n",
       "<style scoped>\n",
       "    .dataframe tbody tr th:only-of-type {\n",
       "        vertical-align: middle;\n",
       "    }\n",
       "\n",
       "    .dataframe tbody tr th {\n",
       "        vertical-align: top;\n",
       "    }\n",
       "\n",
       "    .dataframe thead th {\n",
       "        text-align: right;\n",
       "    }\n",
       "</style>\n",
       "<table border=\"1\" class=\"dataframe\">\n",
       "  <thead>\n",
       "    <tr style=\"text-align: right;\">\n",
       "      <th></th>\n",
       "      <th>loyalty_number</th>\n",
       "      <th>country</th>\n",
       "      <th>province</th>\n",
       "      <th>city</th>\n",
       "      <th>postal_code</th>\n",
       "      <th>gender</th>\n",
       "      <th>education</th>\n",
       "      <th>salary</th>\n",
       "      <th>marital_status</th>\n",
       "      <th>loyalty_card</th>\n",
       "      <th>clv</th>\n",
       "      <th>enrollment_type</th>\n",
       "      <th>enrollment_year</th>\n",
       "      <th>enrollment_month</th>\n",
       "      <th>cancellation_year</th>\n",
       "      <th>cancellation_month</th>\n",
       "      <th>year</th>\n",
       "      <th>month</th>\n",
       "      <th>flights_booked</th>\n",
       "      <th>flights_with_companions</th>\n",
       "      <th>total_flights</th>\n",
       "      <th>distance</th>\n",
       "      <th>points_accumulated</th>\n",
       "      <th>points_redeemed</th>\n",
       "      <th>dollar_cost_points_redeemed</th>\n",
       "      <th>still_client_loyalty</th>\n",
       "      <th>salary_range</th>\n",
       "    </tr>\n",
       "  </thead>\n",
       "  <tbody>\n",
       "    <tr>\n",
       "      <th>0</th>\n",
       "      <td>480934</td>\n",
       "      <td>Canada</td>\n",
       "      <td>Ontario</td>\n",
       "      <td>Toronto</td>\n",
       "      <td>M2Z 4K1</td>\n",
       "      <td>Female</td>\n",
       "      <td>Bachelor</td>\n",
       "      <td>83236.0</td>\n",
       "      <td>Married</td>\n",
       "      <td>Star</td>\n",
       "      <td>3839.14</td>\n",
       "      <td>Standard</td>\n",
       "      <td>2016</td>\n",
       "      <td>2</td>\n",
       "      <td>0</td>\n",
       "      <td>0</td>\n",
       "      <td>2017</td>\n",
       "      <td>1</td>\n",
       "      <td>0</td>\n",
       "      <td>0</td>\n",
       "      <td>0</td>\n",
       "      <td>0</td>\n",
       "      <td>0.0</td>\n",
       "      <td>0</td>\n",
       "      <td>0</td>\n",
       "      <td>si</td>\n",
       "      <td>bajo</td>\n",
       "    </tr>\n",
       "  </tbody>\n",
       "</table>\n",
       "</div>"
      ],
      "text/plain": [
       "   loyalty_number country province     city postal_code  gender education  \\\n",
       "0          480934  Canada  Ontario  Toronto     M2Z 4K1  Female  Bachelor   \n",
       "\n",
       "    salary marital_status loyalty_card      clv enrollment_type  \\\n",
       "0  83236.0        Married         Star  3839.14        Standard   \n",
       "\n",
       "   enrollment_year  enrollment_month  cancellation_year  cancellation_month  \\\n",
       "0             2016                 2                  0                   0   \n",
       "\n",
       "   year  month  flights_booked  flights_with_companions  total_flights  \\\n",
       "0  2017      1               0                        0              0   \n",
       "\n",
       "   distance  points_accumulated  points_redeemed  dollar_cost_points_redeemed  \\\n",
       "0         0                 0.0                0                            0   \n",
       "\n",
       "  still_client_loyalty salary_range  \n",
       "0                   si         bajo  "
      ]
     },
     "execution_count": 3,
     "metadata": {},
     "output_type": "execute_result"
    }
   ],
   "source": [
    "df.head(1)"
   ]
  },
  {
   "cell_type": "markdown",
   "metadata": {},
   "source": [
    "## 1. Preparación y agrupación de datos"
   ]
  },
  {
   "cell_type": "code",
   "execution_count": null,
   "metadata": {},
   "outputs": [
    {
     "data": {
      "text/plain": [
       "array(['Bachelor', 'College', 'Master', 'High School or Below', 'Doctor'],\n",
       "      dtype=object)"
      ]
     },
     "execution_count": 28,
     "metadata": {},
     "output_type": "execute_result"
    }
   ],
   "source": [
    "df['education'].unique()"
   ]
  },
  {
   "cell_type": "code",
   "execution_count": null,
   "metadata": {},
   "outputs": [],
   "source": [
    "#vamos a ordenar estos valores únicos por nivel de formación:\n",
    "lista = ['High School or Below','College', 'Bachelor', 'Master', 'Doctor']"
   ]
  },
  {
   "cell_type": "code",
   "execution_count": null,
   "metadata": {},
   "outputs": [],
   "source": [
    "# filtramos los datos para obtener los grupos. Estos grupos van a ser series de datos\n",
    "grupo_high_school = df[df['education'] == 'High School or Below'] ['flights_booked']\n",
    "grupo_college = df[df['education'] == 'College'] ['flights_booked']\n",
    "grupo_bachelor = df[df['education'] == 'Bachelor'] ['flights_booked']\n",
    "grupo_master = df[df['education'] == 'Master'] ['flights_booked']\n",
    "grupo_doctor = df[df['education'] == 'Doctor'] ['flights_booked']"
   ]
  },
  {
   "cell_type": "code",
   "execution_count": null,
   "metadata": {},
   "outputs": [],
   "source": [
    "df_grupo_high_school = pd.DataFrame(grupo_high_school)\n",
    "df_grupo_college = pd.DataFrame(grupo_college)\n",
    "df_grupo_bachelor = pd.DataFrame(grupo_bachelor)\n",
    "df_grupo_master = pd.DataFrame(grupo_master)\n",
    "df_grupo_doctor = pd.DataFrame(grupo_doctor)"
   ]
  },
  {
   "cell_type": "code",
   "execution_count": null,
   "metadata": {},
   "outputs": [
    {
     "data": {
      "text/html": [
       "<div>\n",
       "<style scoped>\n",
       "    .dataframe tbody tr th:only-of-type {\n",
       "        vertical-align: middle;\n",
       "    }\n",
       "\n",
       "    .dataframe tbody tr th {\n",
       "        vertical-align: top;\n",
       "    }\n",
       "\n",
       "    .dataframe thead th {\n",
       "        text-align: right;\n",
       "    }\n",
       "</style>\n",
       "<table border=\"1\" class=\"dataframe\">\n",
       "  <thead>\n",
       "    <tr style=\"text-align: right;\">\n",
       "      <th></th>\n",
       "      <th>flights_booked</th>\n",
       "    </tr>\n",
       "  </thead>\n",
       "  <tbody>\n",
       "    <tr>\n",
       "      <th>792</th>\n",
       "      <td>9</td>\n",
       "    </tr>\n",
       "    <tr>\n",
       "      <th>793</th>\n",
       "      <td>2</td>\n",
       "    </tr>\n",
       "    <tr>\n",
       "      <th>794</th>\n",
       "      <td>13</td>\n",
       "    </tr>\n",
       "    <tr>\n",
       "      <th>795</th>\n",
       "      <td>9</td>\n",
       "    </tr>\n",
       "    <tr>\n",
       "      <th>796</th>\n",
       "      <td>0</td>\n",
       "    </tr>\n",
       "  </tbody>\n",
       "</table>\n",
       "</div>"
      ],
      "text/plain": [
       "     flights_booked\n",
       "792               9\n",
       "793               2\n",
       "794              13\n",
       "795               9\n",
       "796               0"
      ]
     },
     "execution_count": 123,
     "metadata": {},
     "output_type": "execute_result"
    }
   ],
   "source": [
    "df_grupo_high_school.head()"
   ]
  },
  {
   "cell_type": "markdown",
   "metadata": {},
   "source": [
    "## 2. Análisis descriptivo"
   ]
  },
  {
   "cell_type": "code",
   "execution_count": null,
   "metadata": {},
   "outputs": [
    {
     "name": "stdout",
     "output_type": "stream",
     "text": [
      "High School or Below\n"
     ]
    },
    {
     "data": {
      "text/html": [
       "<div>\n",
       "<style scoped>\n",
       "    .dataframe tbody tr th:only-of-type {\n",
       "        vertical-align: middle;\n",
       "    }\n",
       "\n",
       "    .dataframe tbody tr th {\n",
       "        vertical-align: top;\n",
       "    }\n",
       "\n",
       "    .dataframe thead th {\n",
       "        text-align: right;\n",
       "    }\n",
       "</style>\n",
       "<table border=\"1\" class=\"dataframe\">\n",
       "  <thead>\n",
       "    <tr style=\"text-align: right;\">\n",
       "      <th></th>\n",
       "      <th>0</th>\n",
       "      <th>1</th>\n",
       "      <th>2</th>\n",
       "      <th>3</th>\n",
       "      <th>4</th>\n",
       "      <th>5</th>\n",
       "      <th>6</th>\n",
       "      <th>7</th>\n",
       "    </tr>\n",
       "  </thead>\n",
       "  <tbody>\n",
       "    <tr>\n",
       "      <th>index</th>\n",
       "      <td>count</td>\n",
       "      <td>mean</td>\n",
       "      <td>std</td>\n",
       "      <td>min</td>\n",
       "      <td>25%</td>\n",
       "      <td>50%</td>\n",
       "      <td>75%</td>\n",
       "      <td>max</td>\n",
       "    </tr>\n",
       "    <tr>\n",
       "      <th>flights_booked</th>\n",
       "      <td>18768.0</td>\n",
       "      <td>4.21</td>\n",
       "      <td>5.3</td>\n",
       "      <td>0.0</td>\n",
       "      <td>0.0</td>\n",
       "      <td>1.0</td>\n",
       "      <td>8.0</td>\n",
       "      <td>31.0</td>\n",
       "    </tr>\n",
       "  </tbody>\n",
       "</table>\n",
       "</div>"
      ],
      "text/plain": [
       "                      0     1    2    3    4    5    6     7\n",
       "index             count  mean  std  min  25%  50%  75%   max\n",
       "flights_booked  18768.0  4.21  5.3  0.0  0.0  1.0  8.0  31.0"
      ]
     },
     "metadata": {},
     "output_type": "display_data"
    },
    {
     "name": "stdout",
     "output_type": "stream",
     "text": [
      "----------------------------------------\n",
      "College\n"
     ]
    },
    {
     "data": {
      "text/html": [
       "<div>\n",
       "<style scoped>\n",
       "    .dataframe tbody tr th:only-of-type {\n",
       "        vertical-align: middle;\n",
       "    }\n",
       "\n",
       "    .dataframe tbody tr th {\n",
       "        vertical-align: top;\n",
       "    }\n",
       "\n",
       "    .dataframe thead th {\n",
       "        text-align: right;\n",
       "    }\n",
       "</style>\n",
       "<table border=\"1\" class=\"dataframe\">\n",
       "  <thead>\n",
       "    <tr style=\"text-align: right;\">\n",
       "      <th></th>\n",
       "      <th>0</th>\n",
       "      <th>1</th>\n",
       "      <th>2</th>\n",
       "      <th>3</th>\n",
       "      <th>4</th>\n",
       "      <th>5</th>\n",
       "      <th>6</th>\n",
       "      <th>7</th>\n",
       "    </tr>\n",
       "  </thead>\n",
       "  <tbody>\n",
       "    <tr>\n",
       "      <th>index</th>\n",
       "      <td>count</td>\n",
       "      <td>mean</td>\n",
       "      <td>std</td>\n",
       "      <td>min</td>\n",
       "      <td>25%</td>\n",
       "      <td>50%</td>\n",
       "      <td>75%</td>\n",
       "      <td>max</td>\n",
       "    </tr>\n",
       "    <tr>\n",
       "      <th>flights_booked</th>\n",
       "      <td>101712.0</td>\n",
       "      <td>4.19</td>\n",
       "      <td>5.29</td>\n",
       "      <td>0.0</td>\n",
       "      <td>0.0</td>\n",
       "      <td>1.0</td>\n",
       "      <td>8.0</td>\n",
       "      <td>38.0</td>\n",
       "    </tr>\n",
       "  </tbody>\n",
       "</table>\n",
       "</div>"
      ],
      "text/plain": [
       "                       0     1     2    3    4    5    6     7\n",
       "index              count  mean   std  min  25%  50%  75%   max\n",
       "flights_booked  101712.0  4.19  5.29  0.0  0.0  1.0  8.0  38.0"
      ]
     },
     "metadata": {},
     "output_type": "display_data"
    },
    {
     "name": "stdout",
     "output_type": "stream",
     "text": [
      "----------------------------------------\n",
      "Bachelor\n"
     ]
    },
    {
     "data": {
      "text/html": [
       "<div>\n",
       "<style scoped>\n",
       "    .dataframe tbody tr th:only-of-type {\n",
       "        vertical-align: middle;\n",
       "    }\n",
       "\n",
       "    .dataframe tbody tr th {\n",
       "        vertical-align: top;\n",
       "    }\n",
       "\n",
       "    .dataframe thead th {\n",
       "        text-align: right;\n",
       "    }\n",
       "</style>\n",
       "<table border=\"1\" class=\"dataframe\">\n",
       "  <thead>\n",
       "    <tr style=\"text-align: right;\">\n",
       "      <th></th>\n",
       "      <th>0</th>\n",
       "      <th>1</th>\n",
       "      <th>2</th>\n",
       "      <th>3</th>\n",
       "      <th>4</th>\n",
       "      <th>5</th>\n",
       "      <th>6</th>\n",
       "      <th>7</th>\n",
       "    </tr>\n",
       "  </thead>\n",
       "  <tbody>\n",
       "    <tr>\n",
       "      <th>index</th>\n",
       "      <td>count</td>\n",
       "      <td>mean</td>\n",
       "      <td>std</td>\n",
       "      <td>min</td>\n",
       "      <td>25%</td>\n",
       "      <td>50%</td>\n",
       "      <td>75%</td>\n",
       "      <td>max</td>\n",
       "    </tr>\n",
       "    <tr>\n",
       "      <th>flights_booked</th>\n",
       "      <td>251400.0</td>\n",
       "      <td>4.13</td>\n",
       "      <td>5.26</td>\n",
       "      <td>0.0</td>\n",
       "      <td>0.0</td>\n",
       "      <td>1.0</td>\n",
       "      <td>8.0</td>\n",
       "      <td>39.0</td>\n",
       "    </tr>\n",
       "  </tbody>\n",
       "</table>\n",
       "</div>"
      ],
      "text/plain": [
       "                       0     1     2    3    4    5    6     7\n",
       "index              count  mean   std  min  25%  50%  75%   max\n",
       "flights_booked  251400.0  4.13  5.26  0.0  0.0  1.0  8.0  39.0"
      ]
     },
     "metadata": {},
     "output_type": "display_data"
    },
    {
     "name": "stdout",
     "output_type": "stream",
     "text": [
      "----------------------------------------\n",
      "Master\n"
     ]
    },
    {
     "data": {
      "text/html": [
       "<div>\n",
       "<style scoped>\n",
       "    .dataframe tbody tr th:only-of-type {\n",
       "        vertical-align: middle;\n",
       "    }\n",
       "\n",
       "    .dataframe tbody tr th {\n",
       "        vertical-align: top;\n",
       "    }\n",
       "\n",
       "    .dataframe thead th {\n",
       "        text-align: right;\n",
       "    }\n",
       "</style>\n",
       "<table border=\"1\" class=\"dataframe\">\n",
       "  <thead>\n",
       "    <tr style=\"text-align: right;\">\n",
       "      <th></th>\n",
       "      <th>0</th>\n",
       "      <th>1</th>\n",
       "      <th>2</th>\n",
       "      <th>3</th>\n",
       "      <th>4</th>\n",
       "      <th>5</th>\n",
       "      <th>6</th>\n",
       "      <th>7</th>\n",
       "    </tr>\n",
       "  </thead>\n",
       "  <tbody>\n",
       "    <tr>\n",
       "      <th>index</th>\n",
       "      <td>count</td>\n",
       "      <td>mean</td>\n",
       "      <td>std</td>\n",
       "      <td>min</td>\n",
       "      <td>25%</td>\n",
       "      <td>50%</td>\n",
       "      <td>75%</td>\n",
       "      <td>max</td>\n",
       "    </tr>\n",
       "    <tr>\n",
       "      <th>flights_booked</th>\n",
       "      <td>12192.0</td>\n",
       "      <td>4.23</td>\n",
       "      <td>5.27</td>\n",
       "      <td>0.0</td>\n",
       "      <td>0.0</td>\n",
       "      <td>1.0</td>\n",
       "      <td>8.0</td>\n",
       "      <td>33.0</td>\n",
       "    </tr>\n",
       "  </tbody>\n",
       "</table>\n",
       "</div>"
      ],
      "text/plain": [
       "                      0     1     2    3    4    5    6     7\n",
       "index             count  mean   std  min  25%  50%  75%   max\n",
       "flights_booked  12192.0  4.23  5.27  0.0  0.0  1.0  8.0  33.0"
      ]
     },
     "metadata": {},
     "output_type": "display_data"
    },
    {
     "name": "stdout",
     "output_type": "stream",
     "text": [
      "----------------------------------------\n",
      "Doctor\n"
     ]
    },
    {
     "data": {
      "text/html": [
       "<div>\n",
       "<style scoped>\n",
       "    .dataframe tbody tr th:only-of-type {\n",
       "        vertical-align: middle;\n",
       "    }\n",
       "\n",
       "    .dataframe tbody tr th {\n",
       "        vertical-align: top;\n",
       "    }\n",
       "\n",
       "    .dataframe thead th {\n",
       "        text-align: right;\n",
       "    }\n",
       "</style>\n",
       "<table border=\"1\" class=\"dataframe\">\n",
       "  <thead>\n",
       "    <tr style=\"text-align: right;\">\n",
       "      <th></th>\n",
       "      <th>0</th>\n",
       "      <th>1</th>\n",
       "      <th>2</th>\n",
       "      <th>3</th>\n",
       "      <th>4</th>\n",
       "      <th>5</th>\n",
       "      <th>6</th>\n",
       "      <th>7</th>\n",
       "    </tr>\n",
       "  </thead>\n",
       "  <tbody>\n",
       "    <tr>\n",
       "      <th>index</th>\n",
       "      <td>count</td>\n",
       "      <td>mean</td>\n",
       "      <td>std</td>\n",
       "      <td>min</td>\n",
       "      <td>25%</td>\n",
       "      <td>50%</td>\n",
       "      <td>75%</td>\n",
       "      <td>max</td>\n",
       "    </tr>\n",
       "    <tr>\n",
       "      <th>flights_booked</th>\n",
       "      <td>17616.0</td>\n",
       "      <td>4.2</td>\n",
       "      <td>5.31</td>\n",
       "      <td>0.0</td>\n",
       "      <td>0.0</td>\n",
       "      <td>1.0</td>\n",
       "      <td>8.0</td>\n",
       "      <td>32.0</td>\n",
       "    </tr>\n",
       "  </tbody>\n",
       "</table>\n",
       "</div>"
      ],
      "text/plain": [
       "                      0     1     2    3    4    5    6     7\n",
       "index             count  mean   std  min  25%  50%  75%   max\n",
       "flights_booked  17616.0   4.2  5.31  0.0  0.0  1.0  8.0  32.0"
      ]
     },
     "metadata": {},
     "output_type": "display_data"
    },
    {
     "name": "stdout",
     "output_type": "stream",
     "text": [
      "----------------------------------------\n"
     ]
    }
   ],
   "source": [
    "#imprimimos las estadísticas:\n",
    "for filtro in lista:\n",
    "    print(filtro)\n",
    "    display(df[df['education'] == filtro]['flights_booked'].describe().round(2).reset_index().T)\n",
    "    print('-' * 40)"
   ]
  },
  {
   "cell_type": "markdown",
   "metadata": {},
   "source": [
    "Viendo los estadísticos, parece que pueden haber diferencias a partir del tercer cuartil, es decir, los valores más altos de la serie, que puden ser `outliers`. Vamos a hacer un `boxplot` para comprobarlo:"
   ]
  },
  {
   "cell_type": "code",
   "execution_count": null,
   "metadata": {},
   "outputs": [
    {
     "data": {
      "text/plain": [
       "''"
      ]
     },
     "execution_count": 167,
     "metadata": {},
     "output_type": "execute_result"
    },
    {
     "data": {
      "image/png": "[encoded data removed]",
      "text/plain": [
       "<Figure size 2000x1000 with 6 Axes>"
      ]
     },
     "metadata": {},
     "output_type": "display_data"
    }
   ],
   "source": [
    "#Boxplot\n",
    "#empezamos creando el subplot con el número de gráficas deseadas en su interior\n",
    "fig, axes = plt.subplots(nrows = 2, ncols = 3, figsize = (20, 10))\n",
    "\n",
    "sns.boxplot(x = \"flights_booked\", \n",
    "            data = df_grupo_high_school, \n",
    "            ax = axes[0,0])\n",
    "axes[0,0].set_title(\"boxplot 'high_school'\")\n",
    "\n",
    "sns.boxplot(x = \"flights_booked\", \n",
    "            data = df_grupo_college, \n",
    "            ax = axes[0,1])\n",
    "axes[0,1].set_title(\"boxplot 'college'\")\n",
    "\n",
    "\n",
    "sns.boxplot(x = \"flights_booked\", \n",
    "            data = df_grupo_bachelor, \n",
    "            ax = axes[0,2])\n",
    "axes[0,2].set_title(\"boxplot 'bachelor'\")\n",
    "\n",
    "sns.boxplot(x = \"flights_booked\", \n",
    "            data = df_grupo_master,  \n",
    "            ax = axes[1,0])\n",
    "axes[1,0].set_title(\"boxplot 'master'\")\n",
    "\n",
    "sns.boxplot(x = \"flights_booked\", \n",
    "            data = df_grupo_doctor,  \n",
    "            ax = axes[1,1])\n",
    "axes[1,1].set_title(\"boxplot 'doctor'\");"
   ]
  },
  {
   "cell_type": "markdown",
   "metadata": {},
   "source": [
    "En todas, aunque sobre todo en `College`, `bachelor` y `doctor`, hay bastantes observaciones que se salen de del rango intercuatílico. Esto puede ser de gran ayuda de cara a analizar la prueba de hipótesis que tenemos a continuación, porque parece que sí habrá una diferencia en el número de vuelos reservados y los diferentes niveles educativos."
   ]
  },
  {
   "cell_type": "markdown",
   "metadata": {},
   "source": [
    "## 3. Prueba de hipótesis:\n",
    "\n",
    "- `H0 (Hipótesis nula)` = no existe una diferencia significativa en el número de vuelos reservados entre los diferentes niveles educativos.\n",
    "\n",
    "- `H1 (Hipótesis alternativa)` = Existe diferencia significativa en el número de vuelos reservados entre los diferentes niveles educativos.\n",
    "\n",
    "\n",
    "### `Estructura de prueba de hipótesis`:\n",
    "\n",
    "1. Primero verificamos si los datos son normales  \n",
    "- usando el test de Shapiro-Wilk (menos de 5.000 datos) o \n",
    "- Kolmogorov-Smirnov (más de 5.000 datos en muestra). \n",
    "\n",
    "-- > ahora haremos el test, pero con un `histograma`, podemos ver si la distribución es normal:"
   ]
  },
  {
   "cell_type": "code",
   "execution_count": null,
   "metadata": {},
   "outputs": [
    {
     "data": {
      "image/png": "[encoded data removed]",
      "text/plain": [
       "<Figure size 2000x1000 with 6 Axes>"
      ]
     },
     "metadata": {},
     "output_type": "display_data"
    }
   ],
   "source": [
    "#Histograma\n",
    "#empezamos creando el subplot con el número de gráficas deseadas en su interior\n",
    "fig, axes = plt.subplots(nrows = 2, ncols = 3, figsize = (20, 10))\n",
    "\n",
    "sns.histplot(x = \"flights_booked\", \n",
    "            data = df_grupo_high_school, \n",
    "            color = \"violet\", \n",
    "            bins = 20, \n",
    "            ax = axes[0,0])\n",
    "axes[0,0].set_title(\"histograma 'high_school'\")\n",
    "\n",
    "sns.histplot(x = \"flights_booked\", \n",
    "            data = df_grupo_college, \n",
    "            color = \"violet\", \n",
    "            bins = 20, \n",
    "            ax = axes[0,1])\n",
    "axes[0,1].set_title(\"histograma 'college'\")\n",
    "\n",
    "\n",
    "sns.histplot(x = \"flights_booked\", \n",
    "            data = df_grupo_bachelor, \n",
    "            color = \"violet\", \n",
    "            bins = 20, \n",
    "            ax = axes[0,2])\n",
    "axes[0,2].set_title(\"histograma 'bachelor'\")\n",
    "\n",
    "sns.histplot(x = \"flights_booked\", \n",
    "            data = df_grupo_master, \n",
    "            color = \"violet\", \n",
    "            bins = 20, \n",
    "            ax = axes[1,0])\n",
    "axes[1,0].set_title(\"histograma 'master'\")\n",
    "\n",
    "sns.histplot(x = \"flights_booked\", \n",
    "            data = df_grupo_doctor, \n",
    "            color = \"violet\", \n",
    "            bins = 20, \n",
    "            ax = axes[1,1])\n",
    "axes[1,1].set_title(\"histograma 'doctor'\");\n",
    "\n",
    "#ponemos la misma escala en los ejes:\n",
    "#eje x, para asegurarnos que coge bien el mes núm 12:\n",
    "axes[0,0].set_xlim(0,30) \n",
    "axes[0,1].set_xlim(0,30) \n",
    "axes[0,2].set_xlim(0,30) \n",
    "axes[1,0].set_xlim(0,30) \n",
    "axes[1,1].set_xlim(0,30) \n",
    "\n",
    "#eje y, hasta 120.000:\n",
    "axes[0,0].set_ylim(0,120000) \n",
    "axes[0,1].set_ylim(0,120000) \n",
    "axes[0,2].set_ylim(0,120000) \n",
    "axes[1,0].set_ylim(0,120000) \n",
    "axes[1,1].set_ylim(0,120000);"
   ]
  },
  {
   "cell_type": "markdown",
   "metadata": {},
   "source": [
    " 2. Si los datos son normales, usa Bartlett para probar igualdad de varianzas. Si no son normales, usa Levene.\n",
    "    -  Por el histograma, no parece que vayan a ser normales, tendremos que usar Levene.\n",
    "\n",
    " 3. Si las varianzas son iguales, usa el t-test de Student si no, usa la versión de Welch (ambos son tests Paramétricos).\n",
    "\n",
    " 4. Si los datos no son normales, usa el test de Mann-Whitney (alternativa no paramétrica)."
   ]
  },
  {
   "cell_type": "code",
   "execution_count": null,
   "metadata": {},
   "outputs": [],
   "source": [
    "def prueba_hipotesis(*args):\n",
    "    \"\"\"\n",
    "    Realiza una prueba de hipótesis para comparar grupos.\n",
    "    1. Primero verifica si los datos son normales usando el test de Shapiro-Wilk (menos de 5.000 datos) o Kolmogorov-Smirnov (más de 5.000 datos en muestra).\n",
    "    2. Si los datos son normales, usa Bartlett para probar igualdad de varianzas. Si no son normales, usa Levene.\n",
    "    3. Si estamos comparando dos grupos a la vez:\n",
    "        3.1.Si las varianzas son iguales, usa el t-test de Student si no, usa la versión de Welch (ambos son tests Paramétricos).\n",
    "        3.2.Si los datos no son normales, y son sólo dos grupos: se usa el test de Mann-Whitney (alternativa no paramétrica), en el caso de que haya más de dos grupos, .\n",
    "    4. Si estamos comparando más de dos grupos a la vez:\n",
    "        4.1. Usa ANOVA (si los datos son normales) o Kruskal-Wallis (si no son normales).\n",
    "        4.2. Usa Kruskal-Wallis si datos NO normales.\n",
    "\n",
    "    Parámetros:\n",
    "    *args: listas o arrays con los datos de cada grupo.\n",
    "\n",
    "    Retorna:\n",
    "    dict con resultados del test de normalidad, varianza e hipótesis.\n",
    "    \"\"\"\n",
    "    # Inicializar variables para evitar error, porque t_stat y p_valor solo se asignan dentro de las condiciones if-else, \n",
    "    # pero si ninguna de esas condiciones se cumple, las variables nunca se definen, lo que genera el error cuando intentas acceder a ellas\n",
    "    t_stat, p_valor, test_usado = None, None, None\n",
    "    \n",
    "    # PASO 1: Comprobar normalidad en cada grupo\n",
    "    normalidad = []\n",
    "    for grupo in args:\n",
    "        if len(grupo) > 5000:\n",
    "            p_valor_norm = stats.kstest(grupo, 'norm').pvalue  # Kolmogorov-Smirnov si n > 5000 \n",
    "        else:\n",
    "            p_valor_norm = stats.shapiro(grupo).pvalue  # Shapiro-Wilk si n <= 5000(Hasta 5000 saphiro es robusto, aunque depende tb de otras cosas)\n",
    "        normalidad.append(p_valor_norm > 0.05)\n",
    "    #nota: p_valor_norm > 0.05:\n",
    "    #Si True, significa que no hay suficiente evidencia para rechazar la hipótesis nula (es decir, los datos podrían seguir una distribución normal).\n",
    "    #Si False, significa que hay suficiente evidencia para rechazar la normalidad.\n",
    "    \n",
    "\n",
    "    # PASO 2: Prueba de igualdad de varianzas:\n",
    "    datos_normales = all(normalidad)  \n",
    "    # La función all(iterable) en Python: all() devuelve True sólo si todos los elementos en normalidad son True.\n",
    "    # Si al menos un elemento es False, entonces all() devuelve False. \n",
    "    # Es decir, si datos_normales = True, significa que todos los grupos pasaron la prueba de normalidad. \n",
    "    # Si datos_normales = False, significa que al menos un grupo no es normal.\n",
    "\n",
    "    # Prueba de igualdad de varianzas\n",
    "    if datos_normales: #(if datos_normales == True)\n",
    "        p_valor_varianza = stats.bartlett(*args).pvalue  # Test de Bartlett si los datos son normales\n",
    "    else:\n",
    "        p_valor_varianza = stats.levene(*args, center=\"median\").pvalue  # Test de Levene si no son normales\n",
    "\n",
    "\n",
    "    # PASO 3 y PASO 4: Aplicar el test adecuado:\n",
    "\n",
    "    varianzas_iguales = p_valor_varianza > 0.05 \n",
    "    # Si p_valor_varianza > 0.05, no hay suficiente evidencia para decir que las varianzas son diferentes \n",
    "    # → Se asume que las varianzas son iguales (varianzas_iguales = True).\n",
    "\n",
    "    # OPCIÓN 1: sólo para comparar 2 grupos.\n",
    "\n",
    "    if len(args) == 2: \n",
    "        if datos_normales:\n",
    "            if varianzas_iguales:\n",
    "                # el t-test de Student sólo se puede usar cuando no hay normalidad y cuando se pretenden comparar 2 grupos.\n",
    "                t_stat, p_valor = stats.ttest_ind(*args, equal_var=True)\n",
    "                test_usado = \"t-test de Student (varianzas iguales)\"\n",
    "            else:\n",
    "                t_stat, p_valor = stats.ttest_ind(*args, equal_var=False)\n",
    "                test_usado = \"t-test de Welch (varianzas desiguales)\"\n",
    "        #Mann-Whitney U: este test sólo se puede usar cuando no hay normalidad y cuando se pretenden comparar 2 grupos.\n",
    "        else:\n",
    "            t_stat, p_valor = stats.mannwhitneyu(*args)\n",
    "            test_usado = \"Mann-Whitney U (prueba no paramétrica)\"\n",
    "\n",
    "\n",
    "    # OPCIÓN 2: para comparar 2 grupos o más   \n",
    "    \n",
    "    elif len(args) > 2:  # Para más de dos grupos\n",
    "        # ANOVA si datos normales\n",
    "        if datos_normales:\n",
    "            t_stat, p_valor = stats.f_oneway(*args) \n",
    "            test_usado = \"ANOVA (prueba paramétrica)\"\n",
    "        # Kruskal-Wallis si datos NO normales\n",
    "        else:\n",
    "            t_stat, p_valor = stats.kruskal(*args)\n",
    "            test_usado = \"Kruskal-Wallis (prueba no paramétrica)\"\n",
    "\n",
    "    else:\n",
    "        raise ValueError(\"Se necesitan al menos dos conjuntos de datos.\")\n",
    "\n",
    "    # Nivel de significancia\n",
    "    alfa = 0.05\n",
    "\n",
    "    # Resultados\n",
    "    resultado = {\n",
    "        \"Test de Normalidad\": normalidad,\n",
    "        \"Datos Normales\": datos_normales,\n",
    "        \"p-valor Varianza\": p_valor_varianza,\n",
    "        \"Varianzas Iguales\": varianzas_iguales,\n",
    "        \"Test Usado\": test_usado,\n",
    "        \"Estadístico\": t_stat,\n",
    "        \"p-valor\": p_valor,\n",
    "        \"Conclusión\": \"Rechazamos H0 (Hay diferencias significativas)\" if p_valor < alfa else \"No se rechaza H0 (No hay diferencias significativas)\"\n",
    "    }\n",
    "\n",
    "    # Imprimir resultados de manera más clara\n",
    "    print(\"**📌 Resultados de la Prueba de Hipótesis**\")\n",
    "    print(f\"Test de Normalidad: {'Sí' if datos_normales else 'No'}\")\n",
    "    print(f\"Normalidad por grupo: {normalidad}\")\n",
    "    print(f\"Test de Varianza: {'Iguales' if varianzas_iguales else 'Desiguales'} (p = {p_valor_varianza:.4f})\")\n",
    "    print(f\"Test aplicado: {test_usado}\")\n",
    "    print(f\" Estadístico: {t_stat:.4f}, p-valor: {p_valor:.4f}\")\n",
    "    print(f\"🔍 Conclusión: {resultado['Conclusión']}\")\n",
    "\n",
    "    return resultado"
   ]
  },
  {
   "cell_type": "code",
   "execution_count": null,
   "metadata": {},
   "outputs": [
    {
     "name": "stdout",
     "output_type": "stream",
     "text": [
      "**📌 Resultados de la Prueba de Hipótesis**\n",
      "Test de Normalidad: No\n",
      "Normalidad por grupo: [np.False_, np.False_, np.False_, np.False_, np.False_]\n",
      "Test de Varianza: Desiguales (p = 0.0038)\n",
      "Test aplicado: Kruskal-Wallis (prueba no paramétrica)\n",
      " Estadístico: 18.7151, p-valor: 0.0009\n",
      "🔍 Conclusión: Rechazamos H0 (Hay diferencias significativas)\n"
     ]
    },
    {
     "data": {
      "text/plain": [
       "{'Test de Normalidad': [np.False_, np.False_, np.False_, np.False_, np.False_],\n",
       " 'Datos Normales': False,\n",
       " 'p-valor Varianza': np.float64(0.0038152909032901144),\n",
       " 'Varianzas Iguales': np.False_,\n",
       " 'Test Usado': 'Kruskal-Wallis (prueba no paramétrica)',\n",
       " 'Estadístico': np.float64(18.71507053972487),\n",
       " 'p-valor': np.float64(0.0008939855290647737),\n",
       " 'Conclusión': 'Rechazamos H0 (Hay diferencias significativas)'}"
      ]
     },
     "execution_count": 165,
     "metadata": {},
     "output_type": "execute_result"
    }
   ],
   "source": [
    "prueba_hipotesis(grupo_high_school, grupo_college, grupo_bachelor, grupo_master, grupo_doctor)"
   ]
  },
  {
   "cell_type": "markdown",
   "metadata": {},
   "source": [
    "Rescatamos nuestras hipótesis:\n",
    "\n",
    "- `H0 (Hipótesis nula)` = no existe una diferencia significativa en el número de vuelos reservados entre los diferentes niveles educativos.\n",
    "\n",
    "- `H1 (Hipótesis alternativa)` = Existe diferencia significativa en el número de vuelos reservados entre los diferentes niveles educativos.\n",
    "\n"
   ]
  },
  {
   "cell_type": "markdown",
   "metadata": {},
   "source": [
    "### `Conclusión`:\n",
    "\n",
    "Tal y como vimos arriba con los boxplots, sí hay una diferencia entre el número de vuelos reservados y los diferentes niveles educativos.\n",
    "\n",
    "\n",
    "\n",
    "-- > Rechazamos la `H0 (Hipótesis nula)` porque hay diferencias significativas.\n",
    "\n"
   ]
  }
 ],
 "metadata": {
  "kernelspec": {
   "display_name": "promo49",
   "language": "python",
   "name": "python3"
  },
  "language_info": {
   "codemirror_mode": {
    "name": "ipython",
    "version": 3
   },
   "file_extension": ".py",
   "mimetype": "text/x-python",
   "name": "python",
   "nbconvert_exporter": "python",
   "pygments_lexer": "ipython3",
   "version": "3.11.11"
  }
 },
 "nbformat": 4,
 "nbformat_minor": 2
}
